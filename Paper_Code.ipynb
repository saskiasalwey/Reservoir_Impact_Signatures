{
 "cells": [
  {
   "cell_type": "markdown",
   "metadata": {},
   "source": [
    "### **National-Scale Detection of Reservoir Impacts Through Hydrological Signatures: Code Workflow**"
   ]
  },
  {
   "cell_type": "markdown",
   "metadata": {},
   "source": [
    "This script takes you through the steps needed to calculate the signatures introduced in Salwey et al. (2023) and plot the results.\n",
    "\n",
    "The script will produce the input flow, precipitation and PET files from the CAMELS-GB database (Coxon et al. 2020) which can be downloaded here: https://doi.org/10.5285/8344e4f3-d2ea-44f5-8afa-86d2987543a9. The script also uses Data Set S1 published by Salwey et al. (2023) to define the two samples of gauges. \n",
    "\n",
    "The CAMELS-GB database only contains 131 of the 186 reservoir gauges used in the published analysis, and so whilst this code will allow you to reproduce the plots in the same style, the smaller sample of catchments means that they will not be exactly the same. The data files produced by this script only include those gauges which are included in the CAMELS-GB dataset, although the data for the remaining gauges can be downloaded from the locations described in the data availablilty statement at the end of the paper if needed. \n",
    "\n",
    "Data files are produced with a column for each gauge and a row for each day in the analysis window, e.g. the reservoir precipitation file assosiated with the published analysis has 186 columns (for each of the 186 reservoir gauges) and 12418 rows (one for each day in the 01/10/1980 - 30/09/2014 window). If using a new sample of gauges, the flow, precipitation and PET data must be read in to the script in the same format. "
   ]
  },
  {
   "cell_type": "markdown",
   "metadata": {},
   "source": [
    "**Section 1: Reading in Data**"
   ]
  },
  {
   "cell_type": "markdown",
   "metadata": {},
   "source": [
    "The following section will define the timeframe and data sources for analysis and generate data files in the necessary format for the rest of the script. "
   ]
  },
  {
   "cell_type": "markdown",
   "metadata": {},
   "source": [
    "Locate the files needed for analysis."
   ]
  },
  {
   "cell_type": "code",
   "execution_count": null,
   "metadata": {},
   "outputs": [],
   "source": [
    "# Insert file path to location of signature_functions.py script (available to download from Github)\n",
    "signature_scipt_location = ''\n",
    "# Insert file path to downloaded CAMELS-GB data \n",
    "CAMELS_data_location = '' \n",
    "# Insert file path to Data Set S1\n",
    "catchment_information_location = ''"
   ]
  },
  {
   "cell_type": "code",
   "execution_count": null,
   "metadata": {},
   "outputs": [],
   "source": [
    "# Import the libraries used throughout the analysis \n",
    "import os\n",
    "import pandas as pd\n",
    "import numpy as np \n",
    "import matplotlib.pyplot as plt\n",
    "from mpl_toolkits.axes_grid1 import AxesGrid\n",
    "import matplotlib.lines as mlines\n",
    "from scipy.optimize import curve_fit\n",
    "from sklearn.metrics import mean_squared_error\n",
    "import statistics\n",
    "import math "
   ]
  },
  {
   "cell_type": "code",
   "execution_count": null,
   "metadata": {},
   "outputs": [],
   "source": [
    "# Change working directory to location of signature_functions.py script (available to download from Github)\n",
    "os.chdir(signature_scipt_location)\n",
    "\n",
    "# Import script containing signature functions \n",
    "from signature_functions import *"
   ]
  },
  {
   "cell_type": "code",
   "execution_count": null,
   "metadata": {},
   "outputs": [],
   "source": [
    "# Read in Data Set S1 containing catchment descriptors and data\n",
    "os.chdir(catchment_information_location)\n",
    "catchment_information = pd.DataFrame(pd.read_csv('Data Set S1.csv', skiprows = 1))\n",
    "\n",
    "# Make 2 seperate files for reservoir and benchmark catchments \n",
    "res_catchments = catchment_information[catchment_information.Sample == 'Reservoir']\n",
    "benchmark_catchments = catchment_information[catchment_information.Sample == 'Benchmark']"
   ]
  },
  {
   "cell_type": "markdown",
   "metadata": {},
   "source": [
    "Define the dates of analysis period."
   ]
  },
  {
   "cell_type": "code",
   "execution_count": null,
   "metadata": {},
   "outputs": [],
   "source": [
    "# Date must be defined in a format that pandas date range can interpret \n",
    "start = '10/01/1980'\n",
    "end = '09/30/2014'\n",
    "\n",
    "# Define dates in the same format as in the CAMELS data \n",
    "start_GB = '1980-10-01'\n",
    "end_GB = '2014-09-30'"
   ]
  },
  {
   "cell_type": "markdown",
   "metadata": {},
   "source": [
    "Produce flow, PET and precipitation dataframes combining timeseries for all catchments from CAMELS-GB data. "
   ]
  },
  {
   "cell_type": "code",
   "execution_count": null,
   "metadata": {},
   "outputs": [],
   "source": [
    "dates = pd.Series(pd.date_range(start='10/01/1980', end= '09/30/2014', freq='D'))\n",
    "\n",
    "# Locate to the timeseries folder in the CAMELS database \n",
    "os.chdir(CAMELS_data_location+'\\\\data\\\\timeseries')\n",
    "\n",
    "# Find out which reservoir catchments are in the CAMELS dataset \n",
    "list_dir= os.listdir(CAMELS_data_location+'\\\\data\\\\timeseries')\n",
    "CAMELS_gauges = []\n",
    "CAMELS_gauges_index = []\n",
    "res_catchment_index = []\n",
    "\n",
    "for i in range(0, len(res_catchments)):    \n",
    "    for x in range(0, len(list_dir)): \n",
    "        gauge = list_dir[x].strip('CAMELS_GB_hydromet_timeseries_')\n",
    "        gauge = gauge.rstrip('19701001-20150930.csv ')\n",
    "        gauge = gauge.rstrip('_')\n",
    "        if gauge == str(res_catchments.iloc[i,1]):\n",
    "            CAMELS_gauges.append(gauge)\n",
    "            CAMELS_gauges_index.append(x)\n",
    "            res_catchment_index.append(i)\n",
    "            \n",
    "# Find out which benchmark catchments are in the CAMELS dataset \n",
    "benchmark_gauges = []\n",
    "benchmark_gauges_index = []\n",
    "            \n",
    "for i in range(0, len(benchmark_catchments)):\n",
    "    for x in range(0, len(list_dir)): \n",
    "        gauge = list_dir[x].strip('CAMELS_GB_hydromet_timeseries_')\n",
    "        gauge = gauge.rstrip('19701001-20150930.csv ')\n",
    "        gauge = gauge.rstrip('_')\n",
    "        if gauge == str(benchmark_catchments.iloc[i,1]):\n",
    "            benchmark_gauges.append(gauge)\n",
    "            benchmark_gauges_index.append(x)\n",
    "            \n",
    "# Subset reservoir catchment dataframe to only include those in CAMELS \n",
    "res_catchments = res_catchments.iloc[res_catchment_index, :]\n",
    "res_catchments = res_catchments.reset_index(drop = True)\n",
    "\n",
    "# Set up dataframes \n",
    "res_flow = np.zeros(shape = (len(dates), len(res_catchments)))\n",
    "res_pet = np.zeros(shape = (len(dates), len(res_catchments)))\n",
    "res_precip = np.zeros(shape = (len(dates), len(res_catchments)))\n",
    "\n",
    "for x in range(0, len(CAMELS_gauges_index)):\n",
    "    temp= pd.read_csv(list_dir[CAMELS_gauges_index[x]])\n",
    "    for i in range(0, len(temp)): \n",
    "        if temp.iloc[i,0]==start_GB:\n",
    "            lower_index = i\n",
    "        if temp.iloc[i,0]==end_GB:  \n",
    "            upper_index = i \n",
    "    flow=temp.iloc[lower_index: upper_index+ 1, 4]\n",
    "    pet = temp.iloc[lower_index: upper_index+ 1, 2]\n",
    "    precip = temp.iloc[lower_index: upper_index+ 1, 1]\n",
    "    res_flow[:,x]=flow\n",
    "    res_pet[:,x]=pet\n",
    "    res_precip[:,x]=precip\n",
    "    \n",
    "# Set up dataframes \n",
    "benchmark_flow = np.zeros(shape = (len(dates), len(benchmark_catchments)))\n",
    "benchmark_pet = np.zeros(shape = (len(dates), len(benchmark_catchments)))\n",
    "benchmark_precip = np.zeros(shape = (len(dates), len(benchmark_catchments)))\n",
    "\n",
    "\n",
    "for x in range(0, len(benchmark_gauges_index)):\n",
    "    temp= pd.read_csv(list_dir[benchmark_gauges_index[x]])\n",
    "    for i in range(0, len(temp)): \n",
    "        if temp.iloc[i,0]==start_GB:\n",
    "            lower_index = i\n",
    "        if temp.iloc[i,0]==end_GB:  \n",
    "            upper_index = i \n",
    "    flow=temp.iloc[lower_index: upper_index+ 1, 4]\n",
    "    pet = temp.iloc[lower_index: upper_index+ 1, 2]\n",
    "    precip = temp.iloc[lower_index: upper_index+ 1, 1]\n",
    "    benchmark_flow[:,x]=flow\n",
    "    benchmark_pet[:,x]=pet\n",
    "    benchmark_precip[:,x]=precip"
   ]
  },
  {
   "cell_type": "markdown",
   "metadata": {},
   "source": [
    "Convert arrays to dataframes."
   ]
  },
  {
   "cell_type": "code",
   "execution_count": null,
   "metadata": {},
   "outputs": [],
   "source": [
    "benchmark_pet_df = pd.DataFrame(benchmark_pet)\n",
    "benchmark_precip_df = pd.DataFrame(benchmark_precip)\n",
    "benchmark_flow_df = pd.DataFrame(benchmark_flow)\n",
    "\n",
    "reservoir_pet_df = pd.DataFrame(res_pet)\n",
    "reservoir_precip_df = pd.DataFrame(res_precip)\n",
    "reservoir_flow_df = pd.DataFrame(res_flow)"
   ]
  },
  {
   "cell_type": "code",
   "execution_count": null,
   "metadata": {},
   "outputs": [],
   "source": [
    "# Set up a dataframe containing the dates assosiated with the datasets\n",
    "dates = pd.Series(pd.date_range(start='10/01/1980', end= '09/30/2014', freq='D'))\n",
    "dates_df = pd.DataFrame()\n",
    "dates_df['Dates']=pd.date_range(start='10/01/1980', end= '09/30/2014', freq='D')\n",
    "dates_df['Month'] = dates_df.Dates.dt.month\n",
    "\n",
    "# Offset dates by 3 months to allign with a hydrological year (Oct- Oct) \n",
    "dates_df['WY'] = dates_df['Dates'] + pd.DateOffset(months = 3)\n",
    "dates_df['WY_y'] =dates_df.WY.dt.year"
   ]
  },
  {
   "cell_type": "markdown",
   "metadata": {},
   "source": [
    "**Section 2: Hydrological Signatures**\n",
    "\n",
    "The following section will use the signature functions from signature_functions.py to calculate the 5 signatures introduced in Salwey et al. (2022) which the datasets that have been produced in section 1. \n",
    "\n",
    "Note: The plots displayed here are not exactly the same as those seen in the paper since some of the catchments in the original sample have data that cannot be shared. "
   ]
  },
  {
   "cell_type": "code",
   "execution_count": null,
   "metadata": {},
   "outputs": [],
   "source": [
    "#Define markers for plot (these are used throughout the script)\n",
    "marker_list = [np.nan] * len(res_catchments)\n",
    "marker_size = [np.nan] * len(res_catchments)\n",
    "for i in range(0,len(res_catchments)):\n",
    "    if res_catchments.iloc[i,8] == 'WR':\n",
    "        marker_list[i] = '.'\n",
    "        marker_size[i] = 125\n",
    "    if res_catchments.iloc[i,8] == 'H':\n",
    "        marker_list[i] = '^'\n",
    "        marker_size[i] = 60\n",
    "    if res_catchments.iloc[i,8] == 'M':\n",
    "        marker_list[i] = 'd'\n",
    "        marker_size[i] = 60\n",
    "    if res_catchments.iloc[i,8] == 'U':\n",
    "        marker_list[i] = 'X'\n",
    "        marker_size[i] = 60\n",
    "        \n",
    "# Define legend items (points)\n",
    "multiple = mlines.Line2D([], [], color='darkred', marker='d', linestyle='None',\n",
    "                          markersize=8, label='Multiple Types', markeredgecolor = 'black')\n",
    "hydro = mlines.Line2D([], [], color='darkred', marker='^', linestyle='None',\n",
    "                          markersize=8, label='Hydropower', markeredgecolor = 'black')\n",
    "wr = mlines.Line2D([], [], color='darkred', marker='.', linestyle='None',\n",
    "                          markersize=12, label='Water Resource', markeredgecolor = 'black')\n",
    "natural = mlines.Line2D([], [], color='lightgrey', marker='.', linestyle='None',\n",
    "                          markersize=12, label='Benchmark')\n",
    "nan =  mlines.Line2D([], [], color='darkred', marker='X', linestyle='None', markeredgecolor = 'black',\n",
    "                          markersize=8, label='Unknown')\n",
    "\n",
    "# Define legend items (lines)\n",
    "multiple_line = mlines.Line2D([], [], color='purple',label='Multiple Types')\n",
    "hydro_line = mlines.Line2D([], [], color='green', label='Hydropower')\n",
    "wr_line = mlines.Line2D([], [], color='darkred', label='Water Resource')\n",
    "natural_line = mlines.Line2D([], [], color='lightgrey',label='Benchmark')\n",
    "unknown_line = mlines.Line2D([], [], color='blue',label='Unknown')\n",
    "\n",
    "# Define colour maps \n",
    "norm = plt.Normalize(vmin=0, vmax=624.9)\n",
    "cmap_WR = plt.cm.Reds\n",
    "cmap = plt.cm.Reds\n",
    "cmap_H= plt.cm.Greens\n",
    "cmap_M = plt.cm.Purples\n",
    "cmap_nat = plt.cm.Greys\n",
    "cmap_U = plt.cm.Blues\n",
    "\n",
    "# Define axis labels for intra-annual data  \n",
    "months_shift_letters =  [ 'O' ,'N', 'D','J', 'F', 'M', 'A', 'M', 'J', 'J', 'A', 'S' ]\n",
    "months_shift =  [ 'Oct' ,'Nov', 'Dec','Jan', 'Feb', 'Mar', 'Apr', 'May', 'Jun', 'Jul', 'Aug', 'Sep' ]"
   ]
  },
  {
   "cell_type": "markdown",
   "metadata": {},
   "source": [
    "**1) Water Balance (WB) metric**"
   ]
  },
  {
   "cell_type": "markdown",
   "metadata": {},
   "source": [
    "Calculate WB metric:"
   ]
  },
  {
   "cell_type": "code",
   "execution_count": null,
   "metadata": {},
   "outputs": [],
   "source": [
    "reservoir_WB, runoff_reservoir,aridity_reservoir  = calc_WB(reservoir_flow_df, reservoir_precip_df, reservoir_pet_df)\n",
    "benchmark_WB, runoff_benchmark,aridity_benchmark  = calc_WB(benchmark_flow_df, benchmark_precip_df, benchmark_pet_df)"
   ]
  },
  {
   "cell_type": "markdown",
   "metadata": {},
   "source": [
    "Plot results:"
   ]
  },
  {
   "cell_type": "code",
   "execution_count": null,
   "metadata": {},
   "outputs": [],
   "source": [
    "## Produce plot\n",
    "\n",
    "nat_list = [1] *111\n",
    "plt.rcParams.update({'font.size': 11})\n",
    "fig, axs = plt.subplots(nrows=1, ncols=2,  figsize = (9,4))\n",
    "axs[0].plot([0,1], [1,0], c = 'k', linestyle = 'dashed')\n",
    "#axs[0].text(-0.1,1.18, 'a)', fontsize = 15)\n",
    "axs[0].axhline(y=1, linestyle='dashed', color = 'red')\n",
    "axs[0].scatter(aridity_benchmark, runoff_benchmark, c = 'lightgray', label= 'Benchmark', s = 25)\n",
    "for i in range(len(runoff_reservoir)):\n",
    "    scatter =  axs[0].scatter(aridity_reservoir[i], runoff_reservoir[i], edgecolors = 'black', c = res_catchments.iloc[i,7], cmap= 'Reds', marker = marker_list[i], s =marker_size[i])\n",
    "    scatter.set_clim(0,100)\n",
    "    axs[0].set_xlim(0,1)\n",
    "    axs[0].set_ylim(0,1.15)\n",
    "\n",
    "axs[0].set_xlabel('Aridity index (PE/P)')\n",
    "axs[0].set_ylabel('Runoff coefficient (Q/P)')\n",
    "axs[0].text(0.58,0.67, 'Water Surplus', fontsize = 11)\n",
    "axs[0].text(0.06,0.08, 'Water Deficit', fontsize = 11)\n",
    "#axs[1].axhline(y=0, linestyle='dashed', color = 'k')\n",
    "axs[1].set_xlim(0.9,6500)\n",
    "axs[1].scatter(nat_list,benchmark_catchments['WB'], c = 'lightgray')\n",
    "for i in range(len(res_catchments)):\n",
    "    scatter2 = axs[1].scatter(res_catchments.iloc[i,10], reservoir_WB[i], edgecolors = 'black', c = res_catchments.iloc[i,7], cmap= 'Reds', marker = marker_list[i], s =marker_size[i])\n",
    "    axs[1].set_xscale('log')\n",
    "    scatter2.set_clim(0,100)\n",
    "axs[1].set_xlabel('Normalised Upstream Capacity (mm)')\n",
    "axs[1].text(23,0.47, 'Water Surplus', fontsize = 11)\n",
    "axs[1].text(23,-0.2, 'Water Deficit', fontsize = 11)\n",
    "axs[1].set_ylabel('WB')\n",
    "axs[1].legend(handles=[wr, multiple, hydro, nan, natural], loc='upper right', facecolor = 'white', framealpha = 1, prop={'size': 10})\n",
    "fig.subplots_adjust(bottom=0.1, top=0.9, left=0.1, right=0.8,\n",
    "                    wspace=0.3, hspace=0.02)\n",
    "\n",
    "cb_ax = fig.add_axes([0.83, 0.1, 0.02, 0.8])\n",
    "cbar = fig.colorbar(scatter, cax=cb_ax, label = 'Contributing Area (%)')"
   ]
  },
  {
   "cell_type": "markdown",
   "metadata": {},
   "source": [
    "**2) Segmentation of the Flow Duration Curve (Seg-FDC)**"
   ]
  },
  {
   "cell_type": "markdown",
   "metadata": {},
   "source": [
    "Calculate Seg-FDC:"
   ]
  },
  {
   "cell_type": "code",
   "execution_count": null,
   "metadata": {},
   "outputs": [],
   "source": [
    "res_Seg_FDC = calc_SegFDC(reservoir_flow_df)\n",
    "benchmark_Seg_FDC = calc_SegFDC(benchmark_flow_df)"
   ]
  },
  {
   "cell_type": "markdown",
   "metadata": {},
   "source": [
    "Plot results:"
   ]
  },
  {
   "cell_type": "code",
   "execution_count": null,
   "metadata": {},
   "outputs": [],
   "source": [
    "## Produce plot \n",
    "\n",
    "plt.rcParams.update({'font.size': 11})\n",
    "plt.subplots(figsize=(4.5,4))\n",
    "plt.scatter(nat_list,benchmark_Seg_FDC, c = 'lightgray')\n",
    "for i in range(len(res_catchments)):\n",
    "    plt.scatter(res_catchments.iloc[i,10], res_Seg_FDC[i], edgecolors = 'black', c = res_catchments.iloc[i,7], cmap= 'Reds', marker = marker_list[i], s =marker_size[i])\n",
    "    plt.xscale('log')\n",
    "    plt.clim(0,100)\n",
    "\n",
    "plt.xlabel('Normalised Upstream Capacity (mm)')\n",
    "plt.colorbar( label = 'Contributing Area (%)')\n",
    "plt.ylabel('Seg_FDC')\n",
    "plt.legend(handles=[wr, multiple, hydro, nan, natural], prop={'size': 10})"
   ]
  },
  {
   "cell_type": "markdown",
   "metadata": {},
   "source": [
    "**3) Elasticity (E)**"
   ]
  },
  {
   "cell_type": "markdown",
   "metadata": {},
   "source": [
    "Calculate E:"
   ]
  },
  {
   "cell_type": "code",
   "execution_count": null,
   "metadata": {},
   "outputs": [],
   "source": [
    "res_E, res_annual_precip = calc_E(dates_df, reservoir_flow_df, reservoir_precip_df)\n",
    "benchmark_E, benchmark_annual_precip = calc_E(dates_df, benchmark_flow_df, benchmark_precip_df)"
   ]
  },
  {
   "cell_type": "markdown",
   "metadata": {},
   "source": [
    "Plot results:"
   ]
  },
  {
   "cell_type": "code",
   "execution_count": null,
   "metadata": {},
   "outputs": [],
   "source": [
    "# Produce plot\n",
    "plt.rcParams['svg.fonttype'] = 'none'\n",
    "plt.rcParams.update({'font.size': 11})\n",
    "fig, axs = plt.subplots(figsize=(9,4),nrows=1, ncols=2)\n",
    "\n",
    "axs[0].scatter(benchmark_annual_precip, benchmark_catchments['E'], color = 'lightgrey', label= 'Benchmark', s = 25)\n",
    "for i in range(len(res_catchments)):\n",
    "    scatter1 = axs[0].scatter(res_annual_precip[i], res_E[i], edgecolors = 'black', c = res_catchments.iloc[i,7], cmap= 'Reds', marker = marker_list[i], s =marker_size[i])\n",
    "    scatter1.set_clim(0,100)\n",
    "    axs[0].set_ylim(-0.5,3)\n",
    "axs[0].set_xlabel('Annual Precipitation (mm)')\n",
    "axs[0].set_ylabel('E')\n",
    "\n",
    "for i in range(len(res_catchments)):\n",
    "    scatter = axs[1].scatter(res_catchments.iloc[i,10], res_E[i], edgecolors = 'black', c = res_catchments.iloc[i,7], cmap= 'Reds', marker = marker_list[i], s =marker_size[i])\n",
    "    axs[1].set_xscale('log')\n",
    "    axs[1].set_ylim(-0.5,3)\n",
    "    scatter.set_clim(0,100)\n",
    "\n",
    "axs[1].set_xlabel('Normalised Upstream Capacity (mm)')\n",
    "axs[1].scatter(nat_list,benchmark_E, c = 'lightgray')\n",
    "\n",
    "fig.subplots_adjust(bottom=0.2, top=0.8, left=0.1, right=0.8,\n",
    "                    wspace=0.2, hspace=0.2)\n",
    "\n",
    "cb_ax = fig.add_axes([0.83, 0.2, 0.02, 0.6])\n",
    "cbar = fig.colorbar(scatter, cax=cb_ax, label = 'Contributing Area (%)')\n",
    "ldg = plt.legend(handles=[wr, multiple, hydro, nan, natural], framealpha = 1, facecolor= 'white',ncol = 5, loc = 'lower center',bbox_to_anchor = (-18, -0.40))\n"
   ]
  },
  {
   "cell_type": "markdown",
   "metadata": {},
   "source": [
    "**4) Summer / Winter Runoff Ratio (SWRR)**"
   ]
  },
  {
   "cell_type": "markdown",
   "metadata": {},
   "source": [
    "Calculate SWRR:"
   ]
  },
  {
   "cell_type": "code",
   "execution_count": null,
   "metadata": {},
   "outputs": [],
   "source": [
    "res_SWRR, res_runoff_m, res_annual_precip = calc_SWRR(dates_df, reservoir_flow_df, reservoir_precip_df)\n",
    "benchmark_SWRR, benchmark_runoff_m, benchmark_annual_precip = calc_SWRR(dates_df, benchmark_flow_df, benchmark_precip_df)"
   ]
  },
  {
   "cell_type": "markdown",
   "metadata": {},
   "source": [
    "Plot results:"
   ]
  },
  {
   "cell_type": "code",
   "execution_count": null,
   "metadata": {},
   "outputs": [],
   "source": [
    "# Produce plot\n",
    "\n",
    "# Sort dataframe so that catchments with the highest contributing area are plotted on top \n",
    "res_catchments_sort = res_catchments.sort_values(by = ['Use', 'Contributing Area (%) '], ascending = [False, True])\n",
    "res_catchments_sort = res_catchments_sort.reset_index()\n",
    "\n",
    "# Make plot \n",
    "\n",
    "plt.rcParams['svg.fonttype'] = 'none'\n",
    "plt.rcParams.update({'font.size': 11})\n",
    "fig, axs = plt.subplots(nrows=2, ncols=2,  figsize = (9,6))\n",
    "\n",
    "for x in range(0,len(benchmark_catchments)):  \n",
    "    axs[0,1].plot(months_shift, benchmark_runoff_m.iloc[:,x], color= cmap_nat(benchmark_catchments.iloc[x,2]))\n",
    "sm = plt.cm.ScalarMappable(cmap=cmap_nat)\n",
    "sm.set_clim(0, 1)\n",
    "axs[0,1].plot(months_shift,benchmark_runoff_m.iloc[:,x], label = 'Benchmark', color='lightgray')\n",
    "axs[0,1].set_xticklabels(months_shift_letters, fontsize=11)\n",
    "axs[0,1].set_ylim([0,2])\n",
    "axs[0,1].legend(prop={'size': 10})\n",
    "axs[0,1].axvline(x=6, linestyle='dashed', color = 'black')\n",
    "axs[0,1].text('Nov',1.6, 'Winter', fontsize = 11)\n",
    "axs[0,1].text('May',1.6, 'Summer', fontsize = 11)\n",
    "for i in res_catchments_sort[res_catchments_sort.Use == 'WR'].iloc[:,0]:\n",
    "    axs[0,0].plot(months_shift, res_runoff_m.iloc[:,i], color= cmap_WR(res_catchments.iloc[i,7]/100))\n",
    "sm = plt.cm.ScalarMappable(cmap=cmap_WR)\n",
    "sm.set_clim(0, 100)\n",
    "axs[0,0].legend(handles = [wr_line], prop={'size': 10})\n",
    "axs[0,0].set_xticklabels(months_shift_letters, fontsize=11)\n",
    "axs[0,0].set_ylim([0,2])\n",
    "axs[0,0].set_ylabel('Runoff coefficient (Q/P)')\n",
    "axs[0,0].axvline(x=6, linestyle='dashed', color = 'black')\n",
    "axs[0,0].text('Nov',1.6, 'Winter', fontsize = 11)\n",
    "axs[0,0].text('May',1.6, 'Summer', fontsize = 11)\n",
    "\n",
    "\n",
    "axs[1,0].scatter(benchmark_annual_precip, benchmark_SWRR,  color = 'lightgrey', label= 'Benchmark', s = 25)\n",
    "for i in range(len(res_catchments)):\n",
    "    scatter =  axs[1,0].scatter(res_annual_precip[i], res_SWRR[i], edgecolors = 'black', c = res_catchments.iloc[i,7], cmap= 'Reds', marker = marker_list[i], s =marker_size[i])\n",
    "    scatter.set_clim(0,100)\n",
    "axs[1,0].set_xlabel('Annual Precipitation (mm)')\n",
    "axs[1,0].set_ylabel('Summer/ Winter Runoff Ratio')\n",
    "axs[1,0].axhline(y=1, linestyle='dashed', color = 'black')\n",
    "\n",
    "for i in range(len(res_catchments)):\n",
    "    scatter2 = axs[1,1].scatter(res_catchments.iloc[i,10], res_SWRR[i], edgecolors = 'black', c = res_catchments.iloc[i,7], cmap= 'Reds', marker = marker_list[i], s =marker_size[i])\n",
    "    axs[1,1].set_xscale('log')\n",
    "    scatter2.set_clim(0,100)\n",
    "axs[1,1].set_xlabel('Normalised Upstream Capacity (mm)')\n",
    "fig.subplots_adjust(bottom=0.1, top=0.9, left=0.1, right=0.8,\n",
    "                    wspace=0.2, hspace=0.02)\n",
    "axs[1,1].axhline(y=1, linestyle='dashed', color = 'black')\n",
    "axs[1,1].scatter(nat_list,benchmark_catchments['SWRR'], c = 'lightgray', s = 25)\n",
    "cb_ax = fig.add_axes([0.83, 0.1, 0.02, 0.38])\n",
    "cbar = fig.colorbar(scatter, cax=cb_ax, label = 'Contributing Area (%)')\n",
    "ldg = plt.legend(handles=[wr, multiple, hydro, nan, natural], framealpha = 1, facecolor= 'white',ncol = 5, loc = 'lower center',bbox_to_anchor = (-19, -0.3), prop={'size': 10})\n",
    "cb_ax2 = fig.add_axes([0.83, 0.52, 0.02, 0.38])\n",
    "cbar2 = fig.colorbar(plt.cm.ScalarMappable( cmap=cmap_nat), cax=cb_ax2, label = 'BFI')\n",
    "fig.subplots_adjust(bottom=0.15, top=0.9, left=0.1, right=0.8,\n",
    "                    wspace=0.2, hspace=0.2)"
   ]
  },
  {
   "cell_type": "markdown",
   "metadata": {},
   "source": [
    "**5) Low Flow Variability (LFV)**"
   ]
  },
  {
   "cell_type": "markdown",
   "metadata": {},
   "source": [
    "Calculate LFV:"
   ]
  },
  {
   "cell_type": "code",
   "execution_count": null,
   "metadata": {},
   "outputs": [],
   "source": [
    "res_LFV, res_q80_m = calc_LFV(reservoir_flow_df, dates_df)\n",
    "benchmark_LFV, benchmark_q80_m = calc_LFV(benchmark_flow_df, dates_df)"
   ]
  },
  {
   "cell_type": "markdown",
   "metadata": {},
   "source": [
    "Plot results:"
   ]
  },
  {
   "cell_type": "code",
   "execution_count": null,
   "metadata": {},
   "outputs": [],
   "source": [
    "# Produce plot \n",
    "plt.rcParams.update({'font.size': 11})\n",
    "fig, axs = plt.subplots(nrows=2, ncols=2,  figsize = (10,5), sharey= True)\n",
    "\n",
    "for x in range(0,len(benchmark_catchments)):  \n",
    "    axs[0,1].plot(months_shift, benchmark_q80_m.iloc[:,x], c = cmap_nat(benchmark_catchments.iloc[x, 2]))\n",
    "sm = plt.cm.ScalarMappable(cmap=cmap_nat)\n",
    "fig.colorbar(sm, ax = axs[0,1], label = 'BFI')\n",
    "sm.set_clim(0, 1)\n",
    "axs[0,1].plot(months_shift,benchmark_q80_m.iloc[:,x], label = 'Benchmark', color='lightgray')\n",
    "\n",
    "axs[0,1].legend()\n",
    "axs[0,1].set_ylabel('$Q_{80}$ (% mean annual flow)')\n",
    "axs[0,1].set_xticklabels(months_shift_letters, fontsize=11)\n",
    "\n",
    "for i in res_catchments_sort[res_catchments_sort.Use == 'WR'].iloc[:,0]:\n",
    "    axs[0,0].plot(months_shift, res_q80_m.iloc[:,i], color= cmap_WR((res_catchments.iloc[i,7]/100)))\n",
    "\n",
    "sm = plt.cm.ScalarMappable(cmap=cmap_WR)\n",
    "fig.colorbar(sm, ax = axs[0,0], label = 'Contributing Area (%)')\n",
    "\n",
    "sm.set_clim(0, 100)\n",
    "axs[0,0].legend(handles = [wr_line])\n",
    "\n",
    "axs[0,0].set_ylabel('$Q_{80}$ (% mean annual flow)')\n",
    "axs[0,0].set_xticklabels(months_shift_letters, fontsize=11)\n",
    "for i in res_catchments_sort[res_catchments_sort.Use == 'H'].iloc[:,0]:\n",
    "    axs[1,0].plot(months_shift, res_q80_m.iloc[:,i], color= cmap_H((res_catchments.iloc[i,7]/100)))\n",
    "\n",
    "sm = plt.cm.ScalarMappable(cmap=cmap_H)\n",
    "fig.colorbar(sm, ax = axs[1,0], label = 'Contributing Area (%)')\n",
    "sm.set_clim(0, 100)\n",
    "axs[1,0].legend(handles = [hydro_line])\n",
    "\n",
    "axs[1,0].set_ylabel('$Q_{80}$ (% mean annual flow)')\n",
    "axs[1,0].set_xticklabels(months_shift_letters, fontsize=11)\n",
    "\n",
    "for i in range(len(res_catchments)):\n",
    "    scatter = axs[1,1].scatter(res_catchments.iloc[i,10], res_LFV[i], edgecolors = 'black',color= cmap_WR((res_catchments.iloc[i,7]/100)), cmap= 'Reds', marker = marker_list[i], s =marker_size[i])\n",
    "    axs[1,1].set_xscale('log')\n",
    "    scatter.set_clim(0, 100)\n",
    "sm = plt.cm.ScalarMappable(cmap=cmap_WR)\n",
    "sm.set_clim(0, 100)\n",
    "fig.colorbar(sm, ax = axs[1,1], label = 'Contributing Area (%)')\n",
    "axs[1,1].set_xlabel('Normalised Upstream Capacity (mm)')\n",
    "axs[1,1].set_ylabel('LFV')\n",
    "ldg = axs[1,1].legend(handles=[wr, multiple, hydro, nan, natural],ncol = 5, loc = 'lower center',bbox_to_anchor = (-0.2, -0.6))\n",
    "axs[1,1].scatter(nat_list,benchmark_LFV, c = 'lightgray', s= 25)\n",
    "fig.subplots_adjust(bottom=0.25, top=0.95, left=0.1, right=0.9,\n",
    "                    wspace=0.2, hspace=0.2)"
   ]
  }
 ],
 "metadata": {
  "kernelspec": {
   "display_name": "Python 3",
   "language": "python",
   "name": "python3"
  },
  "language_info": {
   "codemirror_mode": {
    "name": "ipython",
    "version": 3
   },
   "file_extension": ".py",
   "mimetype": "text/x-python",
   "name": "python",
   "nbconvert_exporter": "python",
   "pygments_lexer": "ipython3",
   "version": "3.8.3"
  }
 },
 "nbformat": 4,
 "nbformat_minor": 4
}
